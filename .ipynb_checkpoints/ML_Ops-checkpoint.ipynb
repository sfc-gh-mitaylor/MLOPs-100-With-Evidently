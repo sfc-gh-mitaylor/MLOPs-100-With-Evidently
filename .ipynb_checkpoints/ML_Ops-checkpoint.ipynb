{
 "cells": [
  {
   "cell_type": "code",
   "execution_count": 2,
   "id": "9d0e6bc6-7d2b-45fa-bc6d-d9b4d61aabfc",
   "metadata": {
    "tags": []
   },
   "outputs": [],
   "source": [
    "import json\n",
    "import numpy as np\n",
    "import pandas as pd\n",
    "import os\n",
    "import sys\n",
    "\n",
    "from snowflake.snowpark.session import Session\n",
    "from snowflake.snowpark.functions import sproc, col\n",
    "import snowflake.snowpark.functions as F\n",
    "import snowflake.snowpark.types as T\n",
    "\n",
    "from snowflake.snowpark.types import PandasDataFrameType, IntegerType, StringType, FloatType\n",
    "from snowflake.snowpark.exceptions import SnowparkSQLException"
   ]
  },
  {
   "cell_type": "markdown",
   "id": "beedb800-03ec-4482-9191-a70b43abedd2",
   "metadata": {},
   "source": [
    "# Log In, Create Session"
   ]
  },
  {
   "cell_type": "code",
   "execution_count": 3,
   "id": "40a762fa-e5e6-49f0-824c-4de7e22d326a",
   "metadata": {
    "tags": []
   },
   "outputs": [
    {
     "data": {
      "text/plain": [
       "[Row(status='Warehouse ASYNC_WH successfully created.')]"
      ]
     },
     "execution_count": 3,
     "metadata": {},
     "output_type": "execute_result"
    }
   ],
   "source": [
    "# Reading Snowflake Connection Details\n",
    "snowflake_connection_cfg = json.loads(open(\"/Users/mitaylor/Documents/creds/creds.json\").read())\n",
    "\n",
    "# Creating Snowpark Session\n",
    "session = Session.builder.configs(snowflake_connection_cfg).create()\n",
    "\n",
    "# Create a fresh & new schema\n",
    "session.sql(\"USE DATABASE MT_TEST\").collect()\n",
    "session.sql(\"CREATE OR REPLACE STAGE FUNCTIONS\").collect()\n",
    "session.sql(\"CREATE OR REPLACE WAREHOUSE ASYNC_WH WITH WAREHOUSE_SIZE='MEDIUM' WAREHOUSE_TYPE = 'SNOWPARK-OPTIMIZED'\").collect()"
   ]
  },
  {
   "cell_type": "markdown",
   "id": "3b3b055c-e93d-469f-ae32-11c71befb889",
   "metadata": {},
   "source": [
    "# Get the Data From the Share, Examine it, and Save it"
   ]
  },
  {
   "cell_type": "code",
   "execution_count": 27,
   "id": "bc40acad-a221-4363-99e7-ba1c9a709942",
   "metadata": {
    "tags": []
   },
   "outputs": [
    {
     "data": {
      "text/html": [
       "<div>\n",
       "<style scoped>\n",
       "    .dataframe tbody tr th:only-of-type {\n",
       "        vertical-align: middle;\n",
       "    }\n",
       "\n",
       "    .dataframe tbody tr th {\n",
       "        vertical-align: top;\n",
       "    }\n",
       "\n",
       "    .dataframe thead th {\n",
       "        text-align: right;\n",
       "    }\n",
       "</style>\n",
       "<table border=\"1\" class=\"dataframe\">\n",
       "  <thead>\n",
       "    <tr style=\"text-align: right;\">\n",
       "      <th></th>\n",
       "      <th>DATE</th>\n",
       "      <th>SYMBOL</th>\n",
       "      <th>EXCHANGE</th>\n",
       "      <th>ACTION</th>\n",
       "      <th>CLOSE</th>\n",
       "      <th>NUM_SHARES</th>\n",
       "      <th>CASH</th>\n",
       "      <th>TRADER</th>\n",
       "      <th>PM</th>\n",
       "    </tr>\n",
       "  </thead>\n",
       "  <tbody>\n",
       "    <tr>\n",
       "      <th>0</th>\n",
       "      <td>2013-06-18</td>\n",
       "      <td>VZ</td>\n",
       "      <td>NYSE</td>\n",
       "      <td>hold</td>\n",
       "      <td>51.55</td>\n",
       "      <td>0.0</td>\n",
       "      <td>0.0</td>\n",
       "      <td>Tiffany Bailey</td>\n",
       "      <td>Jenna Allen</td>\n",
       "    </tr>\n",
       "    <tr>\n",
       "      <th>1</th>\n",
       "      <td>2013-06-19</td>\n",
       "      <td>VZ</td>\n",
       "      <td>NYSE</td>\n",
       "      <td>hold</td>\n",
       "      <td>50.05</td>\n",
       "      <td>0.0</td>\n",
       "      <td>0.0</td>\n",
       "      <td>Tiffany Frey</td>\n",
       "      <td>Mrs Claire George</td>\n",
       "    </tr>\n",
       "    <tr>\n",
       "      <th>2</th>\n",
       "      <td>2013-06-19</td>\n",
       "      <td>VZ</td>\n",
       "      <td>NYSE</td>\n",
       "      <td>hold</td>\n",
       "      <td>50.05</td>\n",
       "      <td>0.0</td>\n",
       "      <td>0.0</td>\n",
       "      <td>Tiffany Bailey</td>\n",
       "      <td>Jenna Allen</td>\n",
       "    </tr>\n",
       "    <tr>\n",
       "      <th>3</th>\n",
       "      <td>2013-06-20</td>\n",
       "      <td>VZ</td>\n",
       "      <td>NYSE</td>\n",
       "      <td>hold</td>\n",
       "      <td>48.96</td>\n",
       "      <td>0.0</td>\n",
       "      <td>0.0</td>\n",
       "      <td>Tiffany Frey</td>\n",
       "      <td>Mrs Claire George</td>\n",
       "    </tr>\n",
       "    <tr>\n",
       "      <th>4</th>\n",
       "      <td>2013-06-20</td>\n",
       "      <td>VZ</td>\n",
       "      <td>NYSE</td>\n",
       "      <td>hold</td>\n",
       "      <td>48.96</td>\n",
       "      <td>0.0</td>\n",
       "      <td>0.0</td>\n",
       "      <td>Tiffany Bailey</td>\n",
       "      <td>Jenna Allen</td>\n",
       "    </tr>\n",
       "  </tbody>\n",
       "</table>\n",
       "</div>"
      ],
      "text/plain": [
       "         DATE SYMBOL EXCHANGE ACTION  CLOSE  NUM_SHARES  CASH          TRADER  \\\n",
       "0  2013-06-18     VZ     NYSE   hold  51.55         0.0   0.0  Tiffany Bailey   \n",
       "1  2013-06-19     VZ     NYSE   hold  50.05         0.0   0.0    Tiffany Frey   \n",
       "2  2013-06-19     VZ     NYSE   hold  50.05         0.0   0.0  Tiffany Bailey   \n",
       "3  2013-06-20     VZ     NYSE   hold  48.96         0.0   0.0    Tiffany Frey   \n",
       "4  2013-06-20     VZ     NYSE   hold  48.96         0.0   0.0  Tiffany Bailey   \n",
       "\n",
       "                  PM  \n",
       "0        Jenna Allen  \n",
       "1  Mrs Claire George  \n",
       "2        Jenna Allen  \n",
       "3  Mrs Claire George  \n",
       "4        Jenna Allen  "
      ]
     },
     "execution_count": 27,
     "metadata": {},
     "output_type": "execute_result"
    }
   ],
   "source": [
    "sdf = session.sql(\"select * FROM DATA_LAKE_TRADE_DATA_MT.PUBLIC.TRADE\")\n",
    "sdf.write.save_as_table(\"TEST\", mode=\"overwrite\")\n",
    "sdf.limit(5).to_pandas()"
   ]
  },
  {
   "cell_type": "markdown",
   "id": "12ed8503-ac3b-465c-8693-cae28f367b73",
   "metadata": {},
   "source": [
    "# Prepare the Data for Machine Learning (using a UDTF)"
   ]
  },
  {
   "cell_type": "code",
   "execution_count": 5,
   "id": "4f9cec76-794c-4c0b-b5f1-71ef589de644",
   "metadata": {
    "tags": []
   },
   "outputs": [
    {
     "data": {
      "text/html": [
       "<div>\n",
       "<style scoped>\n",
       "    .dataframe tbody tr th:only-of-type {\n",
       "        vertical-align: middle;\n",
       "    }\n",
       "\n",
       "    .dataframe tbody tr th {\n",
       "        vertical-align: top;\n",
       "    }\n",
       "\n",
       "    .dataframe thead th {\n",
       "        text-align: right;\n",
       "    }\n",
       "</style>\n",
       "<table border=\"1\" class=\"dataframe\">\n",
       "  <thead>\n",
       "    <tr style=\"text-align: right;\">\n",
       "      <th></th>\n",
       "      <th>DATE</th>\n",
       "      <th>SYMBOL</th>\n",
       "      <th>EXCHANGE</th>\n",
       "      <th>ACTION</th>\n",
       "      <th>CLOSE</th>\n",
       "      <th>NUM_SHARES</th>\n",
       "      <th>CASH</th>\n",
       "      <th>TRADER</th>\n",
       "      <th>PM</th>\n",
       "    </tr>\n",
       "  </thead>\n",
       "  <tbody>\n",
       "    <tr>\n",
       "      <th>0</th>\n",
       "      <td>2019-08-05</td>\n",
       "      <td>GOOG</td>\n",
       "      <td>NASDAQ</td>\n",
       "      <td>hold</td>\n",
       "      <td>57.62</td>\n",
       "      <td>0.0</td>\n",
       "      <td>0.0</td>\n",
       "      <td>charles</td>\n",
       "      <td>warren</td>\n",
       "    </tr>\n",
       "    <tr>\n",
       "      <th>1</th>\n",
       "      <td>2019-08-06</td>\n",
       "      <td>GOOG</td>\n",
       "      <td>NASDAQ</td>\n",
       "      <td>hold</td>\n",
       "      <td>58.50</td>\n",
       "      <td>0.0</td>\n",
       "      <td>0.0</td>\n",
       "      <td>charles</td>\n",
       "      <td>warren</td>\n",
       "    </tr>\n",
       "    <tr>\n",
       "      <th>2</th>\n",
       "      <td>2019-08-07</td>\n",
       "      <td>GOOG</td>\n",
       "      <td>NASDAQ</td>\n",
       "      <td>hold</td>\n",
       "      <td>58.70</td>\n",
       "      <td>0.0</td>\n",
       "      <td>0.0</td>\n",
       "      <td>charles</td>\n",
       "      <td>warren</td>\n",
       "    </tr>\n",
       "    <tr>\n",
       "      <th>3</th>\n",
       "      <td>2019-08-08</td>\n",
       "      <td>GOOG</td>\n",
       "      <td>NASDAQ</td>\n",
       "      <td>hold</td>\n",
       "      <td>60.24</td>\n",
       "      <td>0.0</td>\n",
       "      <td>0.0</td>\n",
       "      <td>charles</td>\n",
       "      <td>warren</td>\n",
       "    </tr>\n",
       "    <tr>\n",
       "      <th>4</th>\n",
       "      <td>2019-08-09</td>\n",
       "      <td>GOOG</td>\n",
       "      <td>NASDAQ</td>\n",
       "      <td>hold</td>\n",
       "      <td>59.40</td>\n",
       "      <td>0.0</td>\n",
       "      <td>0.0</td>\n",
       "      <td>charles</td>\n",
       "      <td>warren</td>\n",
       "    </tr>\n",
       "  </tbody>\n",
       "</table>\n",
       "</div>"
      ],
      "text/plain": [
       "         DATE SYMBOL EXCHANGE ACTION  CLOSE  NUM_SHARES  CASH   TRADER      PM\n",
       "0  2019-08-05   GOOG   NASDAQ   hold  57.62         0.0   0.0  charles  warren\n",
       "1  2019-08-06   GOOG   NASDAQ   hold  58.50         0.0   0.0  charles  warren\n",
       "2  2019-08-07   GOOG   NASDAQ   hold  58.70         0.0   0.0  charles  warren\n",
       "3  2019-08-08   GOOG   NASDAQ   hold  60.24         0.0   0.0  charles  warren\n",
       "4  2019-08-09   GOOG   NASDAQ   hold  59.40         0.0   0.0  charles  warren"
      ]
     },
     "execution_count": 5,
     "metadata": {},
     "output_type": "execute_result"
    }
   ],
   "source": [
    "sdf_filtered = sdf.filter((col(\"SYMBOL\") == 'TGVC') | (col(\"SYMBOL\") == 'GOOG') | (col(\"SYMBOL\") == 'OTRK'))\n",
    "sdf_filtered.limit(5).to_pandas()"
   ]
  },
  {
   "cell_type": "code",
   "execution_count": 6,
   "id": "ff1b48d1-3ae3-4486-93d2-f7a90521af37",
   "metadata": {
    "tags": []
   },
   "outputs": [],
   "source": [
    "from snowflake.snowpark.types import PandasDataFrameType, IntegerType, StringType, FloatType, DateType\n",
    "\n",
    "class ML_Prep:\n",
    "    \"\"\"\n",
    "    UDTF class to create offset time series data for binary classification\n",
    "\n",
    "    Yields\n",
    "    -------\n",
    "    df_new : DataFrame\n",
    "        DataFrame with the TM3,TM2,TM1,TM0 data plus the y variable \n",
    "\n",
    "    \"\"\"\n",
    "    def __init__(self):\n",
    "        None\n",
    "        \n",
    "    def end_partition(self, df):\n",
    "        df.columns = ['DATE', 'SYMBOL', 'CLOSE']\n",
    "        dates = df['DATE']\n",
    "        symbol = df['SYMBOL']\n",
    "        df = df['CLOSE']\n",
    "\n",
    "        def series_to_supervised(df, n_in=3, n_out=1, dropnan=True):\n",
    "            cols = list()\n",
    "            # input sequence (t-n, ... t-1)\n",
    "            for i in range(n_in, 0, -1):\n",
    "                cols.append(df.shift(i))\n",
    "            for i in range(0, n_out):\n",
    "                cols.append(df.shift(-i))\n",
    "            agg = pd.concat(cols, axis=1)\n",
    "            \n",
    "            # drop rows with NaN values\n",
    "            df = pd.DataFrame(agg.values)\n",
    "            df = df.fillna(df.mean())\n",
    "            df.columns = ['TM3', 'TM2', 'TM1', 'TM0']\n",
    "            df['y'] = df['TM0'] - df['TM1']\n",
    "            df['y'] = [1 if i>0 else 0 for i in list(df['y'])]\n",
    "            return df\n",
    "        df_new = series_to_supervised(df)\n",
    "        df_new['DATE'] = dates\n",
    "        df_new['SYMBOL'] = symbol\n",
    "        yield df_new\n",
    "\n",
    "ML_Prep.end_partition._sf_vectorized_input = pd.DataFrame\n",
    "\n",
    "ml_prep_udtf = session.udtf.register(\n",
    "    ML_Prep, # the class\n",
    "    input_types=[PandasDataFrameType([DateType()] + # DATE\n",
    "                                     [StringType()] + # SYMBOL\n",
    "                                     [FloatType()] # CLOSE\n",
    "                                    )], \n",
    "    output_schema=PandasDataFrameType([FloatType(),FloatType(),FloatType(),FloatType(),IntegerType(),DateType(),StringType()],\n",
    "                                      [\"TM3\", \"TM2\", \"TM1\", \"TM0\", \"Y\", \"DATE_\", \"SYMBOL_\"]),\n",
    "    packages=[\"snowflake-snowpark-python\", 'pandas'])  \n",
    "\n"
   ]
  },
  {
   "cell_type": "code",
   "execution_count": 7,
   "id": "fddaf781-f973-402f-9dd2-d1765d86374e",
   "metadata": {
    "tags": []
   },
   "outputs": [
    {
     "data": {
      "text/html": [
       "<div>\n",
       "<style scoped>\n",
       "    .dataframe tbody tr th:only-of-type {\n",
       "        vertical-align: middle;\n",
       "    }\n",
       "\n",
       "    .dataframe tbody tr th {\n",
       "        vertical-align: top;\n",
       "    }\n",
       "\n",
       "    .dataframe thead th {\n",
       "        text-align: right;\n",
       "    }\n",
       "</style>\n",
       "<table border=\"1\" class=\"dataframe\">\n",
       "  <thead>\n",
       "    <tr style=\"text-align: right;\">\n",
       "      <th></th>\n",
       "      <th>TM3</th>\n",
       "      <th>TM2</th>\n",
       "      <th>TM1</th>\n",
       "      <th>TM0</th>\n",
       "      <th>Y</th>\n",
       "      <th>DATE_</th>\n",
       "      <th>SYMBOL_</th>\n",
       "    </tr>\n",
       "  </thead>\n",
       "  <tbody>\n",
       "    <tr>\n",
       "      <th>0</th>\n",
       "      <td>0.521263</td>\n",
       "      <td>0.521232</td>\n",
       "      <td>0.521197</td>\n",
       "      <td>0.44</td>\n",
       "      <td>0</td>\n",
       "      <td>2022-10-11</td>\n",
       "      <td>OTRK</td>\n",
       "    </tr>\n",
       "    <tr>\n",
       "      <th>1</th>\n",
       "      <td>0.521263</td>\n",
       "      <td>0.521232</td>\n",
       "      <td>0.440000</td>\n",
       "      <td>0.49</td>\n",
       "      <td>1</td>\n",
       "      <td>2022-10-04</td>\n",
       "      <td>OTRK</td>\n",
       "    </tr>\n",
       "    <tr>\n",
       "      <th>2</th>\n",
       "      <td>0.521263</td>\n",
       "      <td>0.440000</td>\n",
       "      <td>0.490000</td>\n",
       "      <td>0.48</td>\n",
       "      <td>0</td>\n",
       "      <td>2022-10-05</td>\n",
       "      <td>OTRK</td>\n",
       "    </tr>\n",
       "    <tr>\n",
       "      <th>3</th>\n",
       "      <td>0.440000</td>\n",
       "      <td>0.490000</td>\n",
       "      <td>0.480000</td>\n",
       "      <td>0.48</td>\n",
       "      <td>0</td>\n",
       "      <td>2022-10-05</td>\n",
       "      <td>OTRK</td>\n",
       "    </tr>\n",
       "    <tr>\n",
       "      <th>4</th>\n",
       "      <td>0.490000</td>\n",
       "      <td>0.480000</td>\n",
       "      <td>0.480000</td>\n",
       "      <td>0.48</td>\n",
       "      <td>0</td>\n",
       "      <td>2022-10-06</td>\n",
       "      <td>OTRK</td>\n",
       "    </tr>\n",
       "  </tbody>\n",
       "</table>\n",
       "</div>"
      ],
      "text/plain": [
       "        TM3       TM2       TM1   TM0  Y       DATE_ SYMBOL_\n",
       "0  0.521263  0.521232  0.521197  0.44  0  2022-10-11    OTRK\n",
       "1  0.521263  0.521232  0.440000  0.49  1  2022-10-04    OTRK\n",
       "2  0.521263  0.440000  0.490000  0.48  0  2022-10-05    OTRK\n",
       "3  0.440000  0.490000  0.480000  0.48  0  2022-10-05    OTRK\n",
       "4  0.490000  0.480000  0.480000  0.48  0  2022-10-06    OTRK"
      ]
     },
     "execution_count": 7,
     "metadata": {},
     "output_type": "execute_result"
    }
   ],
   "source": [
    "all_cols = ['DATE', 'SYMBOL', 'CLOSE']\n",
    "sdf_prepped = sdf_filtered.select(ml_prep_udtf(*all_cols).over(partition_by=['SYMBOL']))\n",
    "sdf_prepped.limit(5).to_pandas()"
   ]
  },
  {
   "cell_type": "markdown",
   "id": "4a3ff6f3-ea34-4dc4-b371-2b4d49539689",
   "metadata": {},
   "source": [
    "# Create Train and Test Set"
   ]
  },
  {
   "cell_type": "code",
   "execution_count": 8,
   "id": "0d68446b-70eb-448a-baba-04989df92fc9",
   "metadata": {
    "tags": []
   },
   "outputs": [],
   "source": [
    "sdf_goog = sdf_prepped.filter((col(\"SYMBOL\") == 'GOOG'))\n",
    "weights = [0.5, 0.5]\n",
    "sdf_goog_train, sdf_goog_test = sdf_goog.random_split(weights)\n",
    "sdf_goog_train.write.save_as_table(\"GOOG_TRAIN\", mode=\"overwrite\")\n",
    "sdf_goog_test.write.save_as_table(\"GOOG_TEST\", mode=\"overwrite\")"
   ]
  },
  {
   "cell_type": "markdown",
   "id": "6d40086c-574f-4582-b4a7-80d80fb92392",
   "metadata": {},
   "source": [
    "# Create and Train an ML Model to Predict Price Direction"
   ]
  },
  {
   "cell_type": "code",
   "execution_count": 24,
   "id": "e200b404-8c5c-41f1-85d0-44e10f49e540",
   "metadata": {
    "collapsed": true,
    "jupyter": {
     "outputs_hidden": true
    }
   },
   "outputs": [
    {
     "name": "stderr",
     "output_type": "stream",
     "text": [
      "WARNING:snowflake.snowpark.session:The version of package 'xgboost' in the local environment is 1.7.6, which does not fit the criteria for the requirement 'xgboost==1.7.3'. Your UDF might not work when the package version is different between the server and your local environment.\n"
     ]
    },
    {
     "name": "stdout",
     "output_type": "stream",
     "text": [
      "[10:42:56] WARNING: /Users/runner/work/xgboost/xgboost/python-package/build/temp.macosx-10.9-x86_64-cpython-38/xgboost/src/learner.cc:553: \n",
      "  If you are loading a serialized model (like pickle in Python, RDS in R) generated by\n",
      "  older XGBoost, please export the model by calling `Booster.save_model` from that version\n",
      "  first, then load it back in current version. See:\n",
      "\n",
      "    https://xgboost.readthedocs.io/en/latest/tutorials/saving_model.html\n",
      "\n",
      "  for more details about differences between saving model and serializing.\n",
      "\n"
     ]
    },
    {
     "name": "stderr",
     "output_type": "stream",
     "text": [
      "WARNING:snowflake.snowpark.session:The version of package 'xgboost' in the local environment is 1.7.6, which does not fit the criteria for the requirement 'xgboost==1.7.3'. Your UDF might not work when the package version is different between the server and your local environment.\n"
     ]
    }
   ],
   "source": [
    "# Snowpark ML\n",
    "from snowflake.ml.modeling.xgboost import XGBClassifier\n",
    "from snowflake.ml.modeling.model_selection import GridSearchCV\n",
    "\n",
    "# Define the XGBRegressor\n",
    "regressor = XGBClassifier(\n",
    "    input_cols=['TM3', 'TM2','TM1'],\n",
    "    label_cols=['Y'],\n",
    "    output_cols=['Y_PRED']\n",
    ")\n",
    "\n",
    "# Train\n",
    "regressor.fit(sdf_goog_train)\n",
    "\n",
    "# Predict\n",
    "result = regressor.predict(sdf_goog_test)"
   ]
  },
  {
   "cell_type": "code",
   "execution_count": 26,
   "id": "b99cb8c2-0836-4de5-a650-534768bf982b",
   "metadata": {
    "tags": []
   },
   "outputs": [
    {
     "data": {
      "text/html": [
       "<div>\n",
       "<style scoped>\n",
       "    .dataframe tbody tr th:only-of-type {\n",
       "        vertical-align: middle;\n",
       "    }\n",
       "\n",
       "    .dataframe tbody tr th {\n",
       "        vertical-align: top;\n",
       "    }\n",
       "\n",
       "    .dataframe thead th {\n",
       "        text-align: right;\n",
       "    }\n",
       "</style>\n",
       "<table border=\"1\" class=\"dataframe\">\n",
       "  <thead>\n",
       "    <tr style=\"text-align: right;\">\n",
       "      <th></th>\n",
       "      <th>TM2</th>\n",
       "      <th>TM0</th>\n",
       "      <th>DATE_</th>\n",
       "      <th>TM1</th>\n",
       "      <th>Y</th>\n",
       "      <th>TM3</th>\n",
       "      <th>SYMBOL_</th>\n",
       "      <th>Y_PRED</th>\n",
       "    </tr>\n",
       "  </thead>\n",
       "  <tbody>\n",
       "    <tr>\n",
       "      <th>0</th>\n",
       "      <td>171.953619</td>\n",
       "      <td>49.46</td>\n",
       "      <td>2017-10-11</td>\n",
       "      <td>171.953394</td>\n",
       "      <td>0</td>\n",
       "      <td>171.953849</td>\n",
       "      <td>GOOG</td>\n",
       "      <td>0</td>\n",
       "    </tr>\n",
       "    <tr>\n",
       "      <th>1</th>\n",
       "      <td>46.620000</td>\n",
       "      <td>46.05</td>\n",
       "      <td>2017-09-25</td>\n",
       "      <td>46.430000</td>\n",
       "      <td>0</td>\n",
       "      <td>49.460000</td>\n",
       "      <td>GOOG</td>\n",
       "      <td>0</td>\n",
       "    </tr>\n",
       "    <tr>\n",
       "      <th>2</th>\n",
       "      <td>46.430000</td>\n",
       "      <td>46.24</td>\n",
       "      <td>2017-09-26</td>\n",
       "      <td>46.050000</td>\n",
       "      <td>1</td>\n",
       "      <td>46.620000</td>\n",
       "      <td>GOOG</td>\n",
       "      <td>1</td>\n",
       "    </tr>\n",
       "    <tr>\n",
       "      <th>3</th>\n",
       "      <td>46.050000</td>\n",
       "      <td>47.22</td>\n",
       "      <td>2017-09-27</td>\n",
       "      <td>46.240000</td>\n",
       "      <td>1</td>\n",
       "      <td>46.430000</td>\n",
       "      <td>GOOG</td>\n",
       "      <td>1</td>\n",
       "    </tr>\n",
       "    <tr>\n",
       "      <th>4</th>\n",
       "      <td>46.240000</td>\n",
       "      <td>47.48</td>\n",
       "      <td>2017-09-28</td>\n",
       "      <td>47.220000</td>\n",
       "      <td>1</td>\n",
       "      <td>46.050000</td>\n",
       "      <td>GOOG</td>\n",
       "      <td>1</td>\n",
       "    </tr>\n",
       "  </tbody>\n",
       "</table>\n",
       "</div>"
      ],
      "text/plain": [
       "          TM2    TM0       DATE_         TM1  Y         TM3 SYMBOL_  Y_PRED\n",
       "0  171.953619  49.46  2017-10-11  171.953394  0  171.953849    GOOG       0\n",
       "1   46.620000  46.05  2017-09-25   46.430000  0   49.460000    GOOG       0\n",
       "2   46.430000  46.24  2017-09-26   46.050000  1   46.620000    GOOG       1\n",
       "3   46.050000  47.22  2017-09-27   46.240000  1   46.430000    GOOG       1\n",
       "4   46.240000  47.48  2017-09-28   47.220000  1   46.050000    GOOG       1"
      ]
     },
     "execution_count": 26,
     "metadata": {},
     "output_type": "execute_result"
    }
   ],
   "source": [
    "result.limit(5).to_pandas()"
   ]
  },
  {
   "cell_type": "markdown",
   "id": "80c083b7-2099-469e-b4e6-a7167bd321cf",
   "metadata": {},
   "source": [
    "# Register ML Model (in the Registry)"
   ]
  },
  {
   "cell_type": "code",
   "execution_count": 12,
   "id": "b14cf104-0121-4544-bc0c-057fc50578f4",
   "metadata": {
    "tags": []
   },
   "outputs": [],
   "source": [
    "from snowflake.ml.registry import model_registry"
   ]
  },
  {
   "cell_type": "code",
   "execution_count": 13,
   "id": "f54c1c76-b31d-45ff-9c0a-3ba53f53b309",
   "metadata": {
    "collapsed": true,
    "jupyter": {
     "outputs_hidden": true
    }
   },
   "outputs": [
    {
     "name": "stderr",
     "output_type": "stream",
     "text": [
      "create_model_registry() is in private preview since 0.2.0. Do not use it in production. \n",
      "WARNING:absl:The database MODEL_REGISTRY already exists. Skipping creation.\n",
      "WARNING:absl:The schema MODEL_REGISTRY.PUBLIC already exists. Skipping creation.\n"
     ]
    }
   ],
   "source": [
    "REGISTRY_DATABASE_NAME = \"MODEL_REGISTRY\"\n",
    "REGISTRY_SCHEMA_NAME = \"PUBLIC\"\n",
    "\n",
    "model_registry.create_model_registry(\n",
    "    session=session, database_name=REGISTRY_DATABASE_NAME, schema_name=REGISTRY_SCHEMA_NAME\n",
    ")\n",
    "registry = model_registry.ModelRegistry(\n",
    "    session=session, database_name=REGISTRY_DATABASE_NAME, schema_name=REGISTRY_SCHEMA_NAME\n",
    ")\n"
   ]
  },
  {
   "cell_type": "code",
   "execution_count": 16,
   "id": "5f856997-0ce1-4d53-a66a-e73e98a9eb65",
   "metadata": {},
   "outputs": [],
   "source": [
    "XGB_MODEL_NAME = \"SIMPLE_XGB_MODEL\"\n",
    "XGB_MODEL_VERSION = \"v2\"\n",
    "# A name and model tags can be added to the model at registration time.\n",
    "xgb_model = registry.log_model(\n",
    "    model_name=XGB_MODEL_NAME,\n",
    "    model_version=XGB_MODEL_VERSION,\n",
    "    model=regressor,\n",
    "    tags={\"stage\": \"testing\", \"classifier_type\": \"xgb\"},\n",
    "    sample_input_data=sdf_goog_train.limit(10).to_pandas()[['TM3', 'TM2','TM1']],\n",
    ")"
   ]
  },
  {
   "cell_type": "markdown",
   "id": "1be06fce-ec84-44e0-855c-aac1e498954d",
   "metadata": {},
   "source": [
    "# Deploy ML Model"
   ]
  },
  {
   "cell_type": "code",
   "execution_count": 19,
   "id": "c7645e78-9903-4b08-9a46-d8d7c56427c5",
   "metadata": {
    "collapsed": true,
    "jupyter": {
     "outputs_hidden": true
    },
    "tags": []
   },
   "outputs": [
    {
     "name": "stdout",
     "output_type": "stream",
     "text": [
      "Generated UDF file is persisted at: /var/folders/97/8vc6xcbx4zd06p75xg9frdrw0000gn/T/tmpxfb5wsl2.py\n"
     ]
    },
    {
     "name": "stderr",
     "output_type": "stream",
     "text": [
      "WARNING:snowflake.snowpark.session:The version of package 'anyio' in the local environment is 3.7.1, which does not fit the criteria for the requirement 'anyio'. Your UDF might not work when the package version is different between the server and your local environment.\n",
      "WARNING:snowflake.snowpark.session:The version of package 'xgboost' in the local environment is 1.7.6, which does not fit the criteria for the requirement 'xgboost'. Your UDF might not work when the package version is different between the server and your local environment.\n"
     ]
    },
    {
     "name": "stdout",
     "output_type": "stream",
     "text": [
      "MODEL_REGISTRY.PUBLIC.xgb_model_predict is deployed to warehouse.\n"
     ]
    }
   ],
   "source": [
    "xgb_model.deploy(\n",
    "    deployment_name=\"xgb_model_predict\",\n",
    "    target_method=\"predict\",\n",
    "    permanent=True,\n",
    "    options={\"relax_version\": True}    \n",
    ")"
   ]
  },
  {
   "cell_type": "markdown",
   "id": "25b3f07d-5f06-4b38-bab9-70e189aca984",
   "metadata": {},
   "source": [
    "# Run ML Model"
   ]
  },
  {
   "cell_type": "code",
   "execution_count": 23,
   "id": "077094da-3260-44af-a180-bab0e4ddd6c3",
   "metadata": {},
   "outputs": [
    {
     "name": "stderr",
     "output_type": "stream",
     "text": [
      "/Users/mitaylor/opt/anaconda3/envs/mlops/lib/python3.9/site-packages/snowflake/ml/model/model_signature.py:282: RuntimeWarning: Warn in feature TM3: Nullable column TM3 provided, inference might fail if there is null value.\n",
      "  warnings.warn(\n",
      "/Users/mitaylor/opt/anaconda3/envs/mlops/lib/python3.9/site-packages/snowflake/ml/model/model_signature.py:282: RuntimeWarning: Warn in feature TM2: Nullable column TM2 provided, inference might fail if there is null value.\n",
      "  warnings.warn(\n",
      "/Users/mitaylor/opt/anaconda3/envs/mlops/lib/python3.9/site-packages/snowflake/ml/model/model_signature.py:282: RuntimeWarning: Warn in feature TM1: Nullable column TM1 provided, inference might fail if there is null value.\n",
      "  warnings.warn(\n"
     ]
    },
    {
     "data": {
      "text/html": [
       "<div>\n",
       "<style scoped>\n",
       "    .dataframe tbody tr th:only-of-type {\n",
       "        vertical-align: middle;\n",
       "    }\n",
       "\n",
       "    .dataframe tbody tr th {\n",
       "        vertical-align: top;\n",
       "    }\n",
       "\n",
       "    .dataframe thead th {\n",
       "        text-align: right;\n",
       "    }\n",
       "</style>\n",
       "<table border=\"1\" class=\"dataframe\">\n",
       "  <thead>\n",
       "    <tr style=\"text-align: right;\">\n",
       "      <th></th>\n",
       "      <th>TM0</th>\n",
       "      <th>Y</th>\n",
       "      <th>DATE_</th>\n",
       "      <th>SYMBOL_</th>\n",
       "      <th>TM3</th>\n",
       "      <th>TM2</th>\n",
       "      <th>TM1</th>\n",
       "      <th>Y_PRED</th>\n",
       "    </tr>\n",
       "  </thead>\n",
       "  <tbody>\n",
       "    <tr>\n",
       "      <th>0</th>\n",
       "      <td>49.46</td>\n",
       "      <td>0</td>\n",
       "      <td>2017-10-11</td>\n",
       "      <td>GOOG</td>\n",
       "      <td>171.953849</td>\n",
       "      <td>171.953619</td>\n",
       "      <td>171.953394</td>\n",
       "      <td>0</td>\n",
       "    </tr>\n",
       "    <tr>\n",
       "      <th>1</th>\n",
       "      <td>46.05</td>\n",
       "      <td>0</td>\n",
       "      <td>2017-09-25</td>\n",
       "      <td>GOOG</td>\n",
       "      <td>49.460000</td>\n",
       "      <td>46.620000</td>\n",
       "      <td>46.430000</td>\n",
       "      <td>0</td>\n",
       "    </tr>\n",
       "    <tr>\n",
       "      <th>2</th>\n",
       "      <td>46.24</td>\n",
       "      <td>1</td>\n",
       "      <td>2017-09-26</td>\n",
       "      <td>GOOG</td>\n",
       "      <td>46.620000</td>\n",
       "      <td>46.430000</td>\n",
       "      <td>46.050000</td>\n",
       "      <td>1</td>\n",
       "    </tr>\n",
       "    <tr>\n",
       "      <th>3</th>\n",
       "      <td>47.22</td>\n",
       "      <td>1</td>\n",
       "      <td>2017-09-27</td>\n",
       "      <td>GOOG</td>\n",
       "      <td>46.430000</td>\n",
       "      <td>46.050000</td>\n",
       "      <td>46.240000</td>\n",
       "      <td>1</td>\n",
       "    </tr>\n",
       "    <tr>\n",
       "      <th>4</th>\n",
       "      <td>47.48</td>\n",
       "      <td>1</td>\n",
       "      <td>2017-09-28</td>\n",
       "      <td>GOOG</td>\n",
       "      <td>46.050000</td>\n",
       "      <td>46.240000</td>\n",
       "      <td>47.220000</td>\n",
       "      <td>1</td>\n",
       "    </tr>\n",
       "    <tr>\n",
       "      <th>5</th>\n",
       "      <td>48.94</td>\n",
       "      <td>1</td>\n",
       "      <td>2017-10-06</td>\n",
       "      <td>GOOG</td>\n",
       "      <td>47.890000</td>\n",
       "      <td>47.580000</td>\n",
       "      <td>48.500000</td>\n",
       "      <td>1</td>\n",
       "    </tr>\n",
       "    <tr>\n",
       "      <th>6</th>\n",
       "      <td>48.85</td>\n",
       "      <td>0</td>\n",
       "      <td>2017-10-09</td>\n",
       "      <td>GOOG</td>\n",
       "      <td>47.580000</td>\n",
       "      <td>48.500000</td>\n",
       "      <td>48.940000</td>\n",
       "      <td>0</td>\n",
       "    </tr>\n",
       "    <tr>\n",
       "      <th>7</th>\n",
       "      <td>48.63</td>\n",
       "      <td>0</td>\n",
       "      <td>2017-10-10</td>\n",
       "      <td>GOOG</td>\n",
       "      <td>48.500000</td>\n",
       "      <td>48.940000</td>\n",
       "      <td>48.850000</td>\n",
       "      <td>0</td>\n",
       "    </tr>\n",
       "    <tr>\n",
       "      <th>8</th>\n",
       "      <td>46.58</td>\n",
       "      <td>0</td>\n",
       "      <td>2017-09-20</td>\n",
       "      <td>GOOG</td>\n",
       "      <td>48.940000</td>\n",
       "      <td>48.850000</td>\n",
       "      <td>48.630000</td>\n",
       "      <td>1</td>\n",
       "    </tr>\n",
       "    <tr>\n",
       "      <th>9</th>\n",
       "      <td>49.39</td>\n",
       "      <td>1</td>\n",
       "      <td>2017-10-12</td>\n",
       "      <td>GOOG</td>\n",
       "      <td>48.850000</td>\n",
       "      <td>48.630000</td>\n",
       "      <td>46.580000</td>\n",
       "      <td>1</td>\n",
       "    </tr>\n",
       "  </tbody>\n",
       "</table>\n",
       "</div>"
      ],
      "text/plain": [
       "     TM0  Y       DATE_ SYMBOL_         TM3         TM2         TM1  Y_PRED\n",
       "0  49.46  0  2017-10-11    GOOG  171.953849  171.953619  171.953394       0\n",
       "1  46.05  0  2017-09-25    GOOG   49.460000   46.620000   46.430000       0\n",
       "2  46.24  1  2017-09-26    GOOG   46.620000   46.430000   46.050000       1\n",
       "3  47.22  1  2017-09-27    GOOG   46.430000   46.050000   46.240000       1\n",
       "4  47.48  1  2017-09-28    GOOG   46.050000   46.240000   47.220000       1\n",
       "5  48.94  1  2017-10-06    GOOG   47.890000   47.580000   48.500000       1\n",
       "6  48.85  0  2017-10-09    GOOG   47.580000   48.500000   48.940000       0\n",
       "7  48.63  0  2017-10-10    GOOG   48.500000   48.940000   48.850000       0\n",
       "8  46.58  0  2017-09-20    GOOG   48.940000   48.850000   48.630000       1\n",
       "9  49.39  1  2017-10-12    GOOG   48.850000   48.630000   46.580000       1"
      ]
     },
     "execution_count": 23,
     "metadata": {},
     "output_type": "execute_result"
    }
   ],
   "source": [
    "remote_prediction = xgb_model.predict(deployment_name=\"xgb_model_predict\", data=sdf_goog_test)\n",
    "\n",
    "remote_prediction.limit(10).to_pandas()"
   ]
  },
  {
   "cell_type": "markdown",
   "id": "a94e6add-b35e-43ed-b9b4-6a5afedc7ba1",
   "metadata": {},
   "source": [
    "# Examine via Evidently (ideally with a task)\n",
    "\n",
    "Basic, just look at HTML\n",
    "advanced ish, write to a table, look at it in Snowsight.\n",
    "\n",
    "Note this has slightly quirky Python version requirements so you will want to set this up in it's own venv as it requires Python 3.8 and SnowparkML requires 3.9"
   ]
  },
  {
   "cell_type": "code",
   "execution_count": 14,
   "id": "189f92f2-d543-433b-8fd1-10f11704410b",
   "metadata": {
    "collapsed": true,
    "jupyter": {
     "outputs_hidden": true
    }
   },
   "outputs": [
    {
     "name": "stderr",
     "output_type": "stream",
     "text": [
      "WARNING:snowflake.snowpark.session:The version of package 'evidently' in the local environment is 0.4.5, which does not fit the criteria for the requirement 'evidently'. Your UDF might not work when the package version is different between the server and your local environment.\n"
     ]
    },
    {
     "data": {
      "text/plain": [
       "'Data Prepped'"
      ]
     },
     "execution_count": 14,
     "metadata": {},
     "output_type": "execute_result"
    }
   ],
   "source": [
    "@sproc(session=session, name='evidently_monitor', stage_location='@FUNCTIONS',  \n",
    "       packages=['snowflake-snowpark-python', 'pandas', 'evidently'], \n",
    "       is_permanent=True, \n",
    "       replace=True)\n",
    "def monitor_model(session: Session, history: str, new_data: str) -> str:\n",
    "    \"\"\"\n",
    "    Creates a report that monitors the model drift etc. using evidently package\n",
    "\n",
    "    Parameters\n",
    "    ----------\n",
    "    history : string\n",
    "        The initial training table\n",
    "\n",
    "    new_data : string\n",
    "        The new date (test in this case)\n",
    "\n",
    "    Returns\n",
    "    -------\n",
    "    completion_confirmation : string\n",
    "        Simple confirmation of completion of task (note completion is when the table is prepared)\n",
    "\n",
    "    \"\"\"\n",
    "    \n",
    "    from evidently.report import Report\n",
    "    from evidently.metrics.base_metric import generate_column_metrics\n",
    "    from evidently.metric_preset import DataDriftPreset, TargetDriftPreset\n",
    "    from evidently.test_suite import TestSuite\n",
    "    from evidently.tests.base_test import generate_column_tests\n",
    "    from evidently.test_preset import DataStabilityTestPreset, NoTargetPerformanceTestPreset\n",
    "    from evidently.metrics import ColumnSummaryMetric, ColumnQuantileMetric, ColumnDriftMetric\n",
    "    from joblib import dump\n",
    "\n",
    "    report = Report(metrics=[\n",
    "        ColumnSummaryMetric(column_name='TM1'),\n",
    "        ColumnQuantileMetric(column_name='TM1', quantile=0.25),\n",
    "        ColumnDriftMetric(column_name='TM1')\n",
    "    ])\n",
    "\n",
    "    reference = session.table(history).to_pandas()\n",
    "    current = session.table(new_data).to_pandas()\n",
    "    report.run(reference_data=reference, current_data=current)\n",
    "    \n",
    "    report.save_html(\"/tmp/report.html\")\n",
    "    session.file.put(\"/tmp/report.html\", '@FUNCTIONS', auto_compress=False, overwrite=True)\n",
    "\n",
    "    return('Data Prepped')\n",
    "\n",
    "monitor_model(\"GOOG_TRAIN\", \"GOOG_TEST\")"
   ]
  }
 ],
 "metadata": {
  "kernelspec": {
   "display_name": "Python 3 (ipykernel)",
   "language": "python",
   "name": "python3"
  },
  "language_info": {
   "codemirror_mode": {
    "name": "ipython",
    "version": 3
   },
   "file_extension": ".py",
   "mimetype": "text/x-python",
   "name": "python",
   "nbconvert_exporter": "python",
   "pygments_lexer": "ipython3",
   "version": "3.9.18"
  }
 },
 "nbformat": 4,
 "nbformat_minor": 5
}
